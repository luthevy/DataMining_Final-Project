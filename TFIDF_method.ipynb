{
 "cells": [
  {
   "cell_type": "markdown",
   "id": "b9bfa257-4b24-4aba-8d6c-312dc0023d9e",
   "metadata": {},
   "source": [
    "# Import libraries"
   ]
  },
  {
   "cell_type": "code",
   "execution_count": 1,
   "id": "bab97feb-1693-4edb-9bca-aa721e0f12f6",
   "metadata": {},
   "outputs": [],
   "source": [
    "import math\n",
    "import nltk\n",
    "# nltk.download('stopwords')\n",
    "from nltk import sent_tokenize, word_tokenize, PorterStemmer\n",
    "from nltk.corpus import stopwords"
   ]
  },
  {
   "cell_type": "markdown",
   "id": "538807b5-700a-4803-b9ef-d9b2ef5e50db",
   "metadata": {},
   "source": [
    "# Source document"
   ]
  },
  {
   "cell_type": "code",
   "execution_count": 2,
   "id": "409a31ca-b9b1-420d-819c-ed50e420099f",
   "metadata": {
    "tags": []
   },
   "outputs": [],
   "source": [
    "text = '''\n",
    "Those Who Are Resilient Stay In The Game Longer\n",
    "“On the mountains of truth you can never climb in vain: either you will reach a point higher up today, or you will be training your powers so that you will be able to climb higher tomorrow.” — Friedrich Nietzsche\n",
    "Challenges and setbacks are not meant to defeat you, but promote you. However, I realise after many years of defeats, it can crush your spirit and it is easier to give up than risk further setbacks and disappointments. Have you experienced this before? To be honest, I don’t have the answers. I can’t tell you what the right course of action is; only you will know. However, it’s important not to be discouraged by failure when pursuing a goal or a dream, since failure itself means different things to different people. To a person with a Fixed Mindset failure is a blow to their self-esteem, yet to a person with a Growth Mindset, it’s an opportunity to improve and find new ways to overcome their obstacles. Same failure, yet different responses. Who is right and who is wrong? Neither. Each person has a different mindset that decides their outcome. Those who are resilient stay in the game longer and draw on their inner means to succeed.\n",
    "I’ve coached many clients who gave up after many years toiling away at their respective goal or dream. It was at that point their biggest breakthrough came. Perhaps all those years of perseverance finally paid off. It was the 19th Century’s minister Henry Ward Beecher who once said: “One’s best success comes after their greatest disappointments.” No one knows what the future holds, so your only guide is whether you can endure repeated defeats and disappointments and still pursue your dream. Consider the advice from the American academic and psychologist Angela Duckworth who writes in Grit: The Power of Passion and Perseverance: “Many of us, it seems, quit what we start far too early and far too often. Even more than the effort a gritty person puts in on a single day, what matters is that they wake up the next day, and the next, ready to get on that treadmill and keep going.”\n",
    "I know one thing for certain: don’t settle for less than what you’re capable of, but strive for something bigger. Some of you reading this might identify with this message because it resonates with you on a deeper level. For others, at the end of their tether the message might be nothing more than a trivial pep talk. What I wish to convey irrespective of where you are in your journey is: NEVER settle for less. If you settle for less, you will receive less than you deserve and convince yourself you are justified to receive it.\n",
    "“Two people on a precipice over Yosemite Valley” by Nathan Shipps on Unsplash\n",
    "Develop A Powerful Vision Of What You Want\n",
    "“Your problem is to bridge the gap which exists between where you are now and the goal you intend to reach.” — Earl Nightingale\n",
    "I recall a passage my father often used growing up in 1990s: “Don’t tell me your problems unless you’ve spent weeks trying to solve them yourself.” That advice has echoed in my mind for decades and became my motivator. Don’t leave it to other people or outside circumstances to motivate you because you will be let down every time. It must come from within you. Gnaw away at your problems until you solve them or find a solution. Problems are not stop signs, they are advising you that more work is required to overcome them. Most times, problems help you gain a skill or develop the resources to succeed later. So embrace your challenges and develop the grit to push past them instead of retreat in resignation. Where are you settling in your life right now? Could you be you playing for bigger stakes than you are? Are you willing to play bigger even if it means repeated failures and setbacks? You should ask yourself these questions to decide whether you’re willing to put yourself on the line or settle for less. And that’s fine if you’re content to receive less, as long as you’re not regretful later.\n",
    "If you have not achieved the success you deserve and are considering giving up, will you regret it in a few years or decades from now? Only you can answer that, but you should carve out time to discover your motivation for pursuing your goals. It’s a fact, if you don’t know what you want you’ll get what life hands you and it may not be in your best interest, affirms author Larry Weidel: “Winners know that if you don’t figure out what you want, you’ll get whatever life hands you.” The key is to develop a powerful vision of what you want and hold that image in your mind. Nurture it daily and give it life by taking purposeful action towards it.\n",
    "Vision + desire + dedication + patience + daily action leads to astonishing success. Are you willing to commit to this way of life or jump ship at the first sign of failure? I’m amused when I read questions written by millennials on Quora who ask how they can become rich and famous or the next Elon Musk. Success is a fickle and long game with highs and lows. Similarly, there are no assurances even if you’re an overnight sensation, to sustain it for long, particularly if you don’t have the mental and emotional means to endure it. This means you must rely on the one true constant in your favour: your personal development. The more you grow, the more you gain in terms of financial resources, status, success — simple. If you leave it to outside conditions to dictate your circumstances, you are rolling the dice on your future.\n",
    "So become intentional on what you want out of life. Commit to it. Nurture your dreams. Focus on your development and if you want to give up, know what’s involved before you take the plunge. Because I assure you, someone out there right now is working harder than you, reading more books, sleeping less and sacrificing all they have to realise their dreams and it may contest with yours. Don’t leave your dreams to chance.\n",
    "'''"
   ]
  },
  {
   "cell_type": "markdown",
   "id": "42bd27ed-1cc1-4ea8-a22e-53ab35d2aed4",
   "metadata": {},
   "source": [
    "# Utilities functions"
   ]
  },
  {
   "cell_type": "code",
   "execution_count": 32,
   "id": "50e78440-baa0-456d-ae25-5934cd4b8682",
   "metadata": {},
   "outputs": [],
   "source": [
    "def create_frequency_dict(sentences):\n",
    "    \"\"\"\n",
    "    Create a dictionary for the word frequency\n",
    "    Contains the words that are not in the stop_words set.\n",
    "\n",
    "    :param: sentences-- string, a document or line of text\n",
    "    :rtype: dict\n",
    "    \"\"\"\n",
    "    freq_dict = {}\n",
    "    stop_words = set(stopwords.words(\"english\")) # set of stop words in English\n",
    "    ps = PorterStemmer() # PorterStemmer: bring words to its original form\n",
    "\n",
    "    for sentence in sentences:\n",
    "        freq_table = {}\n",
    "        words = word_tokenize(sentence)\n",
    "        for word in words:\n",
    "            word = word.lower() # tranform current word to lower case\n",
    "            word = ps.stem(word)\n",
    "            if word in stop_words: # check if current word is stop word? \n",
    "                continue\n",
    "            if word in freq_table: # count word frequency\n",
    "                freq_table[word] += 1\n",
    "            else:\n",
    "                freq_table[word] = 1\n",
    "\n",
    "        freq_dict[sentence[:5]] = freq_table # ???\n",
    "    \n",
    "    return freq_dict"
   ]
  },
  {
   "cell_type": "code",
   "execution_count": 5,
   "id": "278f8714-85ad-4ba9-88e2-c39fe06bfd07",
   "metadata": {},
   "outputs": [],
   "source": [
    "def count_words_per_doc(freq_dict):\n",
    "    \"\"\"\n",
    "    Create a dictionary contains the frequency of words in a document\n",
    "\n",
    "    :param: freq_dict-- dict, dictionary of word frequency\n",
    "    :rtype: dict\n",
    "    \"\"\"\n",
    "    words_per_doc_dict = {}\n",
    "\n",
    "    for sentence, f_dict in freq_dict.items():\n",
    "        for word, count in f_dict.items():\n",
    "            if word in words_per_doc_dict:\n",
    "                words_per_doc_dict[word] += 1\n",
    "            else:\n",
    "                words_per_doc_dict[word] = 1\n",
    "\n",
    "    return words_per_doc_dict"
   ]
  },
  {
   "cell_type": "code",
   "execution_count": 6,
   "id": "4cc4f4d8-3f40-4e44-b334-29148f1cdc04",
   "metadata": {},
   "outputs": [],
   "source": [
    "def create_tf_dict(freq_dict):\n",
    "    \"\"\"\n",
    "    Create a dictionary for the TF score value\n",
    "\n",
    "    :param: freq_dict-- dict, dictionary of word frequency\n",
    "    :rtype: dict\n",
    "    \"\"\"\n",
    "    tf_dict= {}\n",
    "\n",
    "    for sentence, f_dict in freq_dict.items():\n",
    "        value_dict = {}\n",
    "\n",
    "        count_words_in_sentence = len(f_dict)\n",
    "        for word, count in f_dict.items():\n",
    "            value_dict[word] = count / count_words_in_sentence\n",
    "\n",
    "        tf_dict[sentence] = value_dict\n",
    "\n",
    "    return tf_dict"
   ]
  },
  {
   "cell_type": "code",
   "execution_count": 7,
   "id": "5d6d9340-43e3-4c8e-a835-dae486ed410d",
   "metadata": {},
   "outputs": [],
   "source": [
    "def create_idf_dict(freq_dict, count_words_per_doc, document_length):\n",
    "    \"\"\"\n",
    "    Create a dictionary contains the IDF score value\n",
    "\n",
    "    :param: freq_dict-- dict, dictionary of word frequency\n",
    "            count_words_per_doc-- dict, dictionary of the frequency of words in a document\n",
    "            document_length-- integer, length of input document \n",
    "    :rtype: dict\n",
    "    \"\"\"\n",
    "    idf_dict = {}\n",
    "\n",
    "    for sentence, f_dict in freq_dict.items():\n",
    "        value_dict = {}\n",
    "\n",
    "        for word in f_dict.keys():\n",
    "            value_dict[word] = math.log10(document_length / float(count_words_per_doc[word]))\n",
    "\n",
    "        idf_dict[sentence] = value_dict\n",
    "\n",
    "    return idf_dict"
   ]
  },
  {
   "cell_type": "code",
   "execution_count": 8,
   "id": "4c9601b2-b57d-4615-a87d-6e3f9cafb94e",
   "metadata": {},
   "outputs": [],
   "source": [
    "def create_tfidf_dict(tf_dict, idf_dict):\n",
    "    \"\"\"\n",
    "    Create a dictionary contains the TFIDF score value\n",
    "\n",
    "    :param: freq_dict-- dict, dictionary of word frequency\n",
    "            count_words_per_doc-- dict, dictionary of the frequency of words in a document\n",
    "            document_length-- integer, length of input document \n",
    "    :rtype: dict\n",
    "    \"\"\"\n",
    "    tfidf_dict = {}\n",
    "\n",
    "    for (sentence1, f_dict1), (sentence2, f_dict2) in zip(tf_dict.items(), idf_dict.items()):\n",
    "        value_dict = {}\n",
    "\n",
    "        for (word1, value1), (word2, value2) in zip(f_dict1.items(), f_dict2.items()):  # here, keys are the same in both the table\n",
    "            value_dict[word1] = float(value1 * value2)\n",
    "\n",
    "        tfidf_dict[sentence1] = value_dict\n",
    "\n",
    "    return tfidf_dict"
   ]
  },
  {
   "cell_type": "code",
   "execution_count": 9,
   "id": "9ae03b5f-67b6-43ce-9f73-4ba6ab6a4e7f",
   "metadata": {},
   "outputs": [],
   "source": [
    "def calc_sentence_score(tfidf_dict):\n",
    "    \"\"\"\n",
    "    Create a dictionary contains the sentence score value\n",
    "\n",
    "    :param: tfidf_dict-- dict, dictionary of TFIDF score value\n",
    "    :rtype: dict\n",
    "    \"\"\"\n",
    "    sentence_score_dict = {}\n",
    "\n",
    "    for sentence, f_dict in tfidf_dict.items():\n",
    "        sentence_score = 0\n",
    "\n",
    "        count_words_in_sentence = len(f_dict)\n",
    "        for word, score in f_dict.items():\n",
    "            sentence_score += score\n",
    "\n",
    "        sentence_score_dict[sentence] = sentence_score / count_words_in_sentence\n",
    "        # Basic algorithm: adding the TF score of every non-stop word in a sentence divided by total no of words in a sentence.\n",
    "\n",
    "    return sentence_score_dict"
   ]
  },
  {
   "cell_type": "code",
   "execution_count": 10,
   "id": "36ebc8a8-2974-463d-876e-1699b9fe1ba0",
   "metadata": {},
   "outputs": [],
   "source": [
    "def calc_average_score(sentence_score_dict):\n",
    "    \"\"\"\n",
    "    Calculate the average sentence score from the sentence score value dictionary\n",
    "    \n",
    "    :param: tfidf_dict-- dict, dictionary of sentence score value\n",
    "    :rtype: int\n",
    "    \"\"\"\n",
    "    total = 0\n",
    "    for entry in sentence_score_dict:\n",
    "        total += sentence_score_dict[entry]\n",
    "\n",
    "    # Average value of a sentence from original summary_text\n",
    "    average = (total / len(sentence_score_dict))\n",
    "\n",
    "    return average"
   ]
  },
  {
   "cell_type": "code",
   "execution_count": 11,
   "id": "cf722f16-b697-49fb-b8c8-58a4b409e76b",
   "metadata": {},
   "outputs": [],
   "source": [
    "def generate_summary(sentences, sentence_score_dict, threshold):\n",
    "    \"\"\"\n",
    "    Generate final result, summary from source document, based on sentence score and thresold\n",
    "    \n",
    "    :param: sentences-- string, input document (lines of text)\n",
    "            sentence_score_dict-- dict, dictionary of sentence score\n",
    "    :rtype: string\n",
    "    \"\"\"\n",
    "    sentence_count = 0\n",
    "    summary = \"\"\n",
    "\n",
    "    for sentence in sentences:\n",
    "        if sentence[:15] in sentence_score_dict and sentence_score_dict[sentence[:15]] >= (threshold):\n",
    "            summary += \" \" + sentence\n",
    "            sentence_count += 1\n",
    "\n",
    "    return summary\n"
   ]
  },
  {
   "cell_type": "code",
   "execution_count": 33,
   "id": "150f32fe-077e-4878-86e2-fabe25907aa8",
   "metadata": {},
   "outputs": [
    {
     "name": "stdout",
     "output_type": "stream",
     "text": [
      "{'\\nThos': {'resili': 1, 'stay': 1, 'game': 1, 'longer': 1, '“': 1, 'mountain': 1, 'truth': 1, 'never': 1, 'climb': 2, 'vain': 1, ':': 1, 'either': 1, 'reach': 1, 'point': 1, 'higher': 2, 'today': 1, ',': 2, 'train': 1, 'power': 1, 'abl': 1, 'tomorrow.': 1, '”': 1, '—': 1, 'friedrich': 1, 'nietzsch': 1, 'challeng': 1, 'setback': 1, 'meant': 1, 'defeat': 1, 'promot': 1, '.': 1}, 'Howev': {'howev': 1, ',': 2, '’': 1, 'import': 1, 'discourag': 1, 'failur': 2, 'pursu': 1, 'goal': 1, 'dream': 1, 'sinc': 1, 'mean': 1, 'differ': 2, 'thing': 1, 'peopl': 1, '.': 1}, 'Have ': {'experienc': 1, 'thi': 1, 'befor': 1, '?': 1}, 'To be': {'honest': 1, ',': 1, '’': 1, 'answer': 1, '.': 1}, 'I can': {'’': 1, 'tell': 1, 'right': 1, 'cours': 1, 'action': 1, ';': 1, 'onli': 1, 'know': 1, '.': 1}, 'To a ': {'person': 2, 'fix': 1, 'mindset': 2, 'failur': 1, 'blow': 1, 'self-esteem': 1, ',': 2, 'yet': 1, 'growth': 1, '’': 1, 'opportun': 1, 'improv': 1, 'find': 1, 'new': 1, 'way': 1, 'overcom': 1, 'obstacl': 1, '.': 1}, 'Same ': {'failur': 1, ',': 1, 'yet': 1, 'differ': 1, 'respons': 1, '.': 1}, 'Who i': {'right': 1, 'wrong': 1, '?': 1}, 'Neith': {'neither': 1, '.': 1}, 'Each ': {'person': 1, 'ha': 1, 'differ': 1, 'mindset': 1, 'decid': 1, 'outcom': 1, '.': 1}, 'Those': {'resili': 1, 'stay': 1, 'game': 1, 'longer': 1, 'draw': 1, 'inner': 1, 'mean': 1, 'succeed': 1, '.': 1}, 'I’ve ': {'’': 1, 'coach': 1, 'mani': 2, 'client': 1, 'gave': 1, 'year': 1, 'toil': 1, 'away': 1, 'respect': 1, 'goal': 1, 'dream': 1, '.': 1}, 'It wa': {'wa': 1, '19th': 1, 'centuri': 1, '’': 2, 'minist': 1, 'henri': 1, 'ward': 1, 'beecher': 1, 'onc': 1, 'said': 1, ':': 1, '“': 1, 'one': 2, 'best': 1, 'success': 1, 'come': 1, 'greatest': 1, 'disappointments.': 1, '”': 1, 'know': 1, 'futur': 1, 'hold': 1, ',': 1, 'onli': 1, 'guid': 1, 'whether': 1, 'endur': 1, 'repeat': 1, 'defeat': 1, 'disappoint': 1, 'still': 1, 'pursu': 1, 'dream': 1, '.': 1}, 'Perha': {'perhap': 1, 'year': 1, 'persever': 1, 'final': 1, 'paid': 1, '.': 1}, 'Consi': {'consid': 1, 'advic': 1, 'american': 1, 'academ': 1, 'psychologist': 1, 'angela': 1, 'duckworth': 1, 'write': 1, 'grit': 1, ':': 2, 'power': 1, 'passion': 1, 'persever': 1, '“': 1, 'mani': 1, 'us': 1, ',': 2, 'seem': 1, 'quit': 1, 'start': 1, 'far': 2, 'earli': 1, 'often': 1, '.': 1}, 'Even ': {'even': 1, 'effort': 1, 'gritti': 1, 'person': 1, 'put': 1, 'singl': 1, 'day': 2, ',': 4, 'matter': 1, 'wake': 1, 'next': 2, 'readi': 1, 'get': 1, 'treadmil': 1, 'keep': 1, 'going.': 1, '”': 1, 'know': 1, 'one': 1, 'thing': 1, 'certain': 1, ':': 1, '’': 2, 'settl': 1, 'less': 1, 'capabl': 1, 'strive': 1, 'someth': 1, 'bigger': 1, '.': 1}, 'Some ': {'read': 1, 'thi': 2, 'might': 1, 'identifi': 1, 'messag': 1, 'becaus': 1, 'reson': 1, 'deeper': 1, 'level': 1, '.': 1}, 'For o': {',': 1, 'end': 1, 'tether': 1, 'messag': 1, 'might': 1, 'noth': 1, 'trivial': 1, 'pep': 1, 'talk': 1, '.': 1}, 'What ': {'wish': 1, 'convey': 1, 'irrespect': 1, 'journey': 1, ':': 1, 'never': 1, 'settl': 1, 'less': 1, '.': 1}, 'If yo': {'leav': 1, 'outsid': 1, 'condit': 1, 'dictat': 1, 'circumst': 1, ',': 1, 'roll': 1, 'dice': 1, 'futur': 1, '.': 1}, '“Two ': {'“': 3, 'two': 1, 'peopl': 1, 'precipic': 1, 'yosemit': 1, 'valley': 1, '”': 3, 'nathan': 1, 'shipp': 1, 'unsplash': 1, 'develop': 1, 'power': 1, 'vision': 1, 'want': 1, 'problem': 2, 'bridg': 1, 'gap': 1, 'exist': 1, 'goal': 1, 'intend': 1, 'reach.': 1, '—': 1, 'earl': 1, 'nightingal': 1, 'recal': 1, 'passag': 1, 'father': 1, 'often': 1, 'use': 1, 'grow': 1, '1990': 1, ':': 1, '’': 2, 'tell': 1, 'unless': 1, 'spent': 1, 'week': 1, 'tri': 1, 'solv': 1, 'yourself.': 1, 'advic': 1, 'ha': 1, 'echo': 1, 'mind': 1, 'decad': 1, 'becam': 1, 'motiv': 1, '.': 1}, 'Don’t': {'’': 1, 'leav': 1, 'dream': 1, 'chanc': 1, '.': 1}, 'It mu': {'must': 1, 'come': 1, 'within': 1, '.': 1}, 'Gnaw ': {'gnaw': 1, 'away': 1, 'problem': 1, 'solv': 1, 'find': 1, 'solut': 1, '.': 1}, 'Probl': {'problem': 1, 'stop': 1, 'sign': 1, ',': 1, 'advis': 1, 'work': 1, 'requir': 1, 'overcom': 1, '.': 1}, 'Most ': {'time': 1, ',': 1, 'problem': 1, 'help': 1, 'gain': 1, 'skill': 1, 'develop': 1, 'resourc': 1, 'succeed': 1, 'later': 1, '.': 1}, 'So em': {'embrac': 1, 'challeng': 1, 'develop': 1, 'grit': 1, 'push': 1, 'past': 1, 'instead': 1, 'retreat': 1, 'resign': 1, '.': 1}, 'Where': {'settl': 1, 'life': 1, 'right': 1, '?': 1}, 'Could': {'could': 1, 'play': 1, 'bigger': 1, 'stake': 1, '?': 1}, 'Are y': {'commit': 1, 'thi': 1, 'way': 1, 'life': 1, 'jump': 1, 'ship': 1, 'first': 1, 'sign': 1, 'failur': 1, '?': 1}, 'You s': {'ask': 1, 'question': 1, 'decid': 1, 'whether': 1, '’': 1, 'put': 1, 'line': 1, 'settl': 1, 'less': 1, '.': 1}, 'And t': {'’': 3, 'fine': 1, 'content': 1, 'receiv': 1, 'less': 1, ',': 1, 'long': 1, 'regret': 1, 'later': 1, '.': 1}, 'Only ': {'onli': 1, 'answer': 1, ',': 1, 'carv': 1, 'time': 1, 'discov': 1, 'motiv': 1, 'pursu': 1, 'goal': 1, '.': 1}, 'It’s ': {'’': 5, 'fact': 1, ',': 3, 'know': 2, 'want': 3, 'get': 2, 'life': 2, 'hand': 2, 'may': 1, 'best': 1, 'interest': 1, 'affirm': 1, 'author': 1, 'larri': 1, 'weidel': 1, ':': 1, '“': 1, 'winner': 1, 'figur': 1, 'whatev': 1, 'you.': 1, '”': 1, 'key': 1, 'develop': 1, 'power': 1, 'vision': 1, 'hold': 1, 'imag': 1, 'mind': 1, '.': 1}, 'Nurtu': {'nurtur': 1, 'dream': 1, '.': 1}, 'Visio': {'vision': 1, '+': 4, 'desir': 1, 'dedic': 1, 'patienc': 1, 'daili': 1, 'action': 1, 'lead': 1, 'astonish': 1, 'success': 1, '.': 1}, 'I’m a': {'’': 1, 'amus': 1, 'read': 1, 'question': 1, 'written': 1, 'millenni': 1, 'quora': 1, 'ask': 1, 'becom': 1, 'rich': 1, 'famou': 1, 'next': 1, 'elon': 1, 'musk': 1, '.': 1}, 'Succe': {'success': 1, 'fickl': 1, 'long': 1, 'game': 1, 'high': 1, 'low': 1, '.': 1}, 'Simil': {'similarli': 1, ',': 3, 'assur': 1, 'even': 1, '’': 2, 'overnight': 1, 'sensat': 1, 'sustain': 1, 'long': 1, 'particularli': 1, 'mental': 1, 'emot': 1, 'mean': 1, 'endur': 1, '.': 1}, 'This ': {'thi': 1, 'mean': 1, 'must': 1, 'reli': 1, 'one': 1, 'true': 1, 'constant': 1, 'favour': 1, ':': 1, 'person': 1, 'develop': 1, '.': 1}, 'The m': {'grow': 1, ',': 3, 'gain': 1, 'term': 1, 'financi': 1, 'resourc': 1, 'statu': 1, 'success': 1, '—': 1, 'simpl': 1, '.': 1}, 'So be': {'becom': 1, 'intent': 1, 'want': 1, 'life': 1, '.': 1}, 'Commi': {'commit': 1, '.': 1}, 'Focus': {'focu': 1, 'develop': 1, 'want': 1, 'give': 1, ',': 1, 'know': 1, '’': 1, 'involv': 1, 'befor': 1, 'take': 1, 'plung': 1, '.': 1}, 'Becau': {'becaus': 1, 'assur': 1, ',': 3, 'someon': 1, 'right': 1, 'work': 1, 'harder': 1, 'read': 1, 'book': 1, 'sleep': 1, 'less': 1, 'sacrif': 1, 'realis': 1, 'dream': 1, 'may': 1, 'contest': 1, '.': 1}}\n"
     ]
    }
   ],
   "source": [
    "# Step 1: Sentence Tokenize\n",
    "sentences = sent_tokenize(text)\n",
    "document_length = len(sentences)\n",
    "\n",
    "# Step 2: Create the frequency dictionary of the words in each sentence.\n",
    "freq_dict = create_frequency_dict(sentences)\n",
    "\n",
    "# # Step 3: Create dictionary of the frequency of words in a document\n",
    "# words_per_doc = count_words_per_doc(freq_dict)\n",
    "\n",
    "# # Step 4: Create the TF score dictionary\n",
    "# tf_dict = create_tf_dict(freq_dict)\n",
    "\n",
    "# # Step 5: Create the IDF score dictionary\n",
    "# idf_dict = create_idf_dict(freq_dict, words_per_doc, document_length)\n",
    "\n",
    "# # Step 6: Create the TF-IDF score dictionary\n",
    "# tfidf_dict = create_tfidf_dict(tf_dict, idf_dict)\n",
    "\n",
    "# # Step 7: Calculate the score of the sentences\n",
    "# sentence_scores = calc_sentence_score(tfidf_dict)\n",
    "\n",
    "# # Step 8: Calculate the threshold\n",
    "# threshold = calc_average_score(sentence_scores)\n",
    "\n",
    "# # Step 9: Generate the summary\n",
    "# summary = generate_summary(sentences, sentence_scores, 1.3 * threshold) # Try change 1.3 -> 1.5/1.8\n",
    "print(freq_dict)"
   ]
  },
  {
   "cell_type": "code",
   "execution_count": null,
   "id": "4fea8a4c-ec76-4223-9de0-5951ad63b769",
   "metadata": {},
   "outputs": [],
   "source": []
  }
 ],
 "metadata": {
  "kernelspec": {
   "display_name": "Python 3",
   "language": "python",
   "name": "python3"
  },
  "language_info": {
   "codemirror_mode": {
    "name": "ipython",
    "version": 3
   },
   "file_extension": ".py",
   "mimetype": "text/x-python",
   "name": "python",
   "nbconvert_exporter": "python",
   "pygments_lexer": "ipython3",
   "version": "3.8.8"
  }
 },
 "nbformat": 4,
 "nbformat_minor": 5
}
