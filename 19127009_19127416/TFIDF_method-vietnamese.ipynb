{
 "cells": [
  {
   "cell_type": "markdown",
   "id": "b9bfa257-4b24-4aba-8d6c-312dc0023d9e",
   "metadata": {},
   "source": [
    "# Import libraries"
   ]
  },
  {
   "cell_type": "code",
   "execution_count": 1,
   "id": "bab97feb-1693-4edb-9bca-aa721e0f12f6",
   "metadata": {},
   "outputs": [],
   "source": [
    "import math\n",
    "import nltk\n",
    "# nltk.download('stopwords')\n",
    "from nltk import sent_tokenize, word_tokenize, PorterStemmer\n",
    "from nltk.corpus import stopwords"
   ]
  },
  {
   "cell_type": "markdown",
   "id": "538807b5-700a-4803-b9ef-d9b2ef5e50db",
   "metadata": {},
   "source": [
    "# Source document"
   ]
  },
  {
   "cell_type": "code",
   "execution_count": 2,
   "id": "409a31ca-b9b1-420d-819c-ed50e420099f",
   "metadata": {
    "tags": []
   },
   "outputs": [],
   "source": [
    "text = '''\n",
    "Những người kiên cường ở lại trò chơi lâu hơn\n",
    "\"Trên những ngọn núi của sự thật, bạn không bao giờ có thể leo lên một cách vô ích: hoặc bạn sẽ đạt được điểm cao hơn hôm nay, hoặc bạn sẽ rèn luyện sức mạnh của mình để bạn có thể leo cao hơn vào ngày mai.\" - Friedrich Nietzsche\n",
    "Thử thách và thất bại không phải để đánh bại bạn mà là để thúc đẩy bạn. Tuy nhiên, tôi nhận ra rằng sau nhiều năm thất bại, nó có thể đè bẹp tinh thần của bạn và bạn dễ dàng bỏ cuộc hơn là rủi ro thất bại và thất vọng thêm. Bạn đã từng trải qua điều này chưa? Thành thật mà nói, tôi không có câu trả lời. Tôi không thể cho bạn biết cách hành động đúng đắn là gì; chỉ bạn mới biết. Tuy nhiên, điều quan trọng là đừng nản lòng vì thất bại khi theo đuổi mục tiêu hoặc ước mơ, vì bản thân thất bại có ý nghĩa khác biệt với những người khác nhau. Đối với một người có Tư duy Cố định, thất bại là một đòn giáng vào lòng tự trọng của họ, nhưng đối với một người có Tư duy Phát triển, đó là cơ hội để cải thiện và tìm ra những cách mới để vượt qua những trở ngại của họ. Cùng một thất bại, nhưng phản ứng khác nhau. ai đúng và ai sai? Cũng không. Mỗi người có một suy nghĩ khác nhau quyết định kết quả của họ. Những người kiên cường ở lại trò chơi lâu hơn và sử dụng các phương tiện bên trong của họ để thành công.\n",
    "Tôi đã huấn luyện nhiều khách hàng đã từ bỏ sau nhiều năm vất vả để đạt được mục tiêu hoặc ước mơ tương ứng của họ. Đó là thời điểm đột phá lớn nhất của họ đã đến. Có lẽ tất cả những năm tháng kiên trì cuối cùng cũng được đền đáp. Chính bộ trưởng Henry Ward Beecher của Thế kỷ 19 đã từng nói: “Thành công tốt nhất của một người đến sau những thất vọng lớn nhất của họ”. Không ai biết tương lai sẽ ra sao, vì vậy hướng dẫn duy nhất của bạn là liệu bạn có thể chịu đựng những thất bại và thất vọng lặp đi lặp lại và vẫn theo đuổi ước mơ của mình hay không. Hãy xem xét lời khuyên từ nhà tâm lý học và học người Mỹ Angela Duckworth, người viết trong Grit: Sức mạnh của đam mê và sự kiên trì: “Có vẻ như nhiều người trong chúng ta từ bỏ những gì chúng ta bắt đầu quá sớm và quá thường xuyên. Thậm chí nhiều hơn những nỗ lực mà một người gan dạ bỏ ra trong một ngày, điều quan trọng là họ thức dậy vào ngày hôm sau, và ngày hôm sau, sẵn sàng lên máy chạy bộ đó và tiếp tục. ”\n",
    "Tôi biết một điều chắc chắn rằng: đừng cố gắng đạt được ít hơn những gì bạn có thể làm, mà hãy phấn đấu cho một điều gì đó lớn hơn. Một số bạn đang đọc thông báo này có thể nhận ra thông điệp này vì nó gây được tiếng vang với bạn ở mức độ sâu sắc hơn. Đối với những người khác, khi kết thúc tin nhắn của họ, thông điệp có thể chỉ là một cuộc nói chuyện nhỏ nhặt tầm thường. Điều tôi muốn truyền tải bất kể bạn đang ở đâu trong hành trình của mình là: KHÔNG BAO GIỜ giải quyết cho ít hơn. Nếu bạn giải quyết cho ít hơn, bạn sẽ nhận được ít hơn những gì bạn xứng đáng và tự thuyết phục bản thân rằng bạn có lý do chính đáng để nhận nó.\n",
    "“Hai người trên vách đá trên thung lũng Yosemite” của Nathan Shipps trên Unsplash\n",
    "Phát triển một tầm nhìn mạnh mẽ về những gì bạn muốn\n",
    "“Vấn đề của bạn là thu hẹp khoảng cách tồn tại giữa vị trí hiện tại của bạn và mục tiêu bạn dự định đạt được.” - Earl Nightingale\n",
    "Tôi nhớ lại một đoạn văn mà cha tôi thường sử dụng khi lớn lên vào những năm 1990: “Đừng nói với tôi những vấn đề của bạn trừ khi bạn đã dành hàng tuần để tự mình giải quyết chúng”. Lời khuyên đó đã vang vọng trong tâm trí tôi trong nhiều thập kỷ và trở thành động lực cho tôi. Đừng để người khác hoặc hoàn cảnh bên ngoài thúc đẩy bạn vì bạn sẽ cảm thấy thất vọng lần nào đó. Nó phải đến từ bên trong bạn. Ngẫm ra những vấn đề của bạn cho đến khi bạn giải quyết được chúng hoặc tìm ra giải pháp. Các vấn đề không phải là dấu hiệu dừng lại, họ đang khuyên bạn rằng cần phải làm việc nhiều hơn nữa để vượt qua chúng. Hầu hết các vấn đề đều giúp bạn có được một kỹ năng hoặc phát triển các nguồn lực để thành công sau này. Vì vậy, hãy đón nhận những thách thức của bạn và phát triển bản lĩnh để vượt qua chúng thay vì rút lui trong cam chịu. Bạn đang định cư ở đâu trong cuộc sống của mình ngay bây giờ? Bạn có thể chơi vì số tiền cược lớn hơn bạn không? Bạn có sẵn sàng chơi lớn hơn ngay cả khi điều đó có nghĩa là thất bại và thất bại lặp đi lặp lại không? Bạn nên tự hỏi bản thân những câu hỏi này để quyết định xem bạn có sẵn sàng đặt mình vào đường cùng hay giải quyết cho ít hơn. Và điều đó cũng tốt nếu bạn bằng lòng nhận ít hơn, miễn là sau này bạn không phải hối hận.\n",
    "Nếu bạn chưa đạt được thành công xứng đáng và đang tính từ bỏ, liệu bạn có hối hận trong vài năm hay vài thập kỷ nữa không? Chỉ bạn mới có thể trả lời điều đó, nhưng bạn nên dành thời gian để khám phá động lực theo đuổi mục tiêu của mình. Một thực tế là, nếu bạn không biết mình muốn gì, bạn sẽ nhận được những gì cuộc sống giao cho bạn và nó có thể không có lợi cho bạn, tác giả Larry Weidel khẳng định: “Người chiến thắng biết điều đó nếu bạn không tìm ra thứ mình muốn , bạn sẽ nhận được bất cứ điều gì cuộc sống giao cho bạn. \" Chìa khóa là phát triển một tầm nhìn mạnh mẽ về những gì bạn muốn và ghi nhớ hình ảnh đó trong tâm trí bạn. Hãy nuôi dưỡng nó hàng ngày và cho nó sự sống bằng cách thực hiện những hành động có mục đích đối với nó.\n",
    "Tầm nhìn + khát khao + cống hiến + kiên nhẫn + hành động hàng ngày dẫn đến thành công đáng kinh ngạc. Bạn có sẵn sàng cam kết với cách sống này hay nhảy tàu khi có dấu hiệu thất bại đầu tiên? Tôi cảm thấy thích thú khi đọc những câu hỏi được viết bởi thế hệ millennials trên Quora, những người hỏi làm thế nào họ có thể trở nên giàu có và nổi tiếng hoặc Elon Musk tiếp theo. Thành công là một trò chơi hay thay đổi và lâu dài với những thăng trầm. Tương tự, không có gì đảm bảo ngay cả khi bạn là một cảm giác qua đêm, để duy trì nó lâu dài, đặc biệt nếu bạn không có đủ phương tiện tinh thần và cảm xúc để chịu đựng nó. Điều này có nghĩa là bạn phải dựa vào một hằng số thực sự có lợi cho bạn: sự phát triển cá nhân của bạn. Bạn càng phát triển, bạn càng đạt được nhiều lợi ích về tài chính, địa vị, thành công - đơn giản. Nếu bạn phó mặc cho những điều kiện bên ngoài quyết định hoàn cảnh của mình, bạn đang tung con xúc xắc vào tương lai của mình.\n",
    "Vì vậy, hãy có chủ đích về những gì bạn muốn trong cuộc sống. Cam kết với nó. Hãy nuôi dưỡng ước mơ của bạn. Tập trung vào sự phát triển của bạn và nếu bạn muốn từ bỏ, hãy biết những gì liên quan trước khi bạn lao vào. Bởi vì tôi đảm bảo với bạn rằng, ai đó ngoài kia hiện đang làm việc chăm chỉ hơn bạn, đọc nhiều sách hơn, ngủ ít hơn và hy sinh tất cả những gì họ có để thực hiện ước mơ của họ và nó có thể cạnh tranh với bạn. Đừng để ước mơ của bạn thành sự may rủi.\n",
    "'''"
   ]
  },
  {
   "cell_type": "markdown",
   "id": "42bd27ed-1cc1-4ea8-a22e-53ab35d2aed4",
   "metadata": {},
   "source": [
    "# Utilities functions"
   ]
  },
  {
   "cell_type": "code",
   "execution_count": 3,
   "id": "50e78440-baa0-456d-ae25-5934cd4b8682",
   "metadata": {},
   "outputs": [],
   "source": [
    "def create_frequency_dict(sentences):\n",
    "    \"\"\"\n",
    "    Create a dictionary for the word frequency\n",
    "    Contains the words that are not in the stop_words set.\n",
    "\n",
    "    :param: sentences-- string, a document or line of text\n",
    "    :rtype: dict\n",
    "    \"\"\"\n",
    "    freq_dict = {}\n",
    " \n",
    "    ps = PorterStemmer() # PorterStemmer: bring words to its original form\n",
    "    stop_words = []\n",
    "    \n",
    "    # vietnamese_stopwords.txt: text file contains vietnamese stopwords\n",
    "    with open(\"vietnamese_stopwords.txt\", \"r\",encoding=\"utf-8\") as file:\n",
    "        newline_break = \"\"\n",
    "        for readline in file:\n",
    "            line_strip = readline.rstrip('\\n')\n",
    "            stop_words.append(line_strip)\n",
    "\n",
    "    for sentence in sentences:\n",
    "        freq_table = {}\n",
    "        words = word_tokenize(sentence)\n",
    "        for word in words:\n",
    "            word = word.lower() # tranform current word to lower case\n",
    "            word = ps.stem(word)\n",
    "            if word in stop_words: # check if current word is stop word? \n",
    "                continue\n",
    "            if word in freq_table: # count word frequency\n",
    "                freq_table[word] += 1\n",
    "            else:\n",
    "                freq_table[word] = 1\n",
    "\n",
    "        freq_dict[sentence[:15]] = freq_table # limits 15 words in a sentence\n",
    "    \n",
    "    return freq_dict"
   ]
  },
  {
   "cell_type": "code",
   "execution_count": 4,
   "id": "278f8714-85ad-4ba9-88e2-c39fe06bfd07",
   "metadata": {},
   "outputs": [],
   "source": [
    "def count_words_per_doc(freq_dict):\n",
    "    \"\"\"\n",
    "    Create a dictionary contains the frequency of words in a document\n",
    "\n",
    "    :param: freq_dict-- dict, dictionary of word frequency\n",
    "    :rtype: dict\n",
    "    \"\"\"\n",
    "    words_per_doc_dict = {}\n",
    "\n",
    "    for sentence, f_dict in freq_dict.items():\n",
    "        for word, count in f_dict.items():\n",
    "            if word in words_per_doc_dict:\n",
    "                words_per_doc_dict[word] += 1\n",
    "            else:\n",
    "                words_per_doc_dict[word] = 1\n",
    "\n",
    "    return words_per_doc_dict"
   ]
  },
  {
   "cell_type": "code",
   "execution_count": 5,
   "id": "4cc4f4d8-3f40-4e44-b334-29148f1cdc04",
   "metadata": {},
   "outputs": [],
   "source": [
    "def create_tf_dict(freq_dict):\n",
    "    \"\"\"\n",
    "    Create a dictionary for the TF score value\n",
    "\n",
    "    :param: freq_dict-- dict, dictionary of word frequency\n",
    "    :rtype: dict\n",
    "    \"\"\"\n",
    "    tf_dict= {}\n",
    "\n",
    "    for sentence, f_dict in freq_dict.items():\n",
    "        value_dict = {}\n",
    "\n",
    "        count_words_in_sentence = len(f_dict)\n",
    "        for word, count in f_dict.items():\n",
    "            value_dict[word] = count / count_words_in_sentence # tf function\n",
    "\n",
    "        tf_dict[sentence] = value_dict\n",
    "\n",
    "    return tf_dict"
   ]
  },
  {
   "cell_type": "code",
   "execution_count": 6,
   "id": "5d6d9340-43e3-4c8e-a835-dae486ed410d",
   "metadata": {},
   "outputs": [],
   "source": [
    "def create_idf_dict(freq_dict, count_words_per_doc, document_length):\n",
    "    \"\"\"\n",
    "    Create a dictionary contains the IDF score value\n",
    "\n",
    "    :param: freq_dict-- dict, dictionary of word frequency\n",
    "            count_words_per_doc-- dict, dictionary of the frequency of words in a document\n",
    "            document_length-- integer, length of input document \n",
    "    :rtype: dict\n",
    "    \"\"\"\n",
    "    idf_dict = {}\n",
    "\n",
    "    for sentence, f_dict in freq_dict.items():\n",
    "        value_dict = {}\n",
    "\n",
    "        for word in f_dict.keys():\n",
    "            value_dict[word] = math.log10(document_length / float(count_words_per_doc[word])) # idf function\n",
    "\n",
    "        idf_dict[sentence] = value_dict\n",
    "\n",
    "    return idf_dict"
   ]
  },
  {
   "cell_type": "code",
   "execution_count": 7,
   "id": "4c9601b2-b57d-4615-a87d-6e3f9cafb94e",
   "metadata": {},
   "outputs": [],
   "source": [
    "def create_tfidf_dict(tf_dict, idf_dict):\n",
    "    \"\"\"\n",
    "    Create a dictionary contains the TFIDF score value\n",
    "\n",
    "    :param: freq_dict-- dict, dictionary of word frequency\n",
    "            count_words_per_doc-- dict, dictionary of the frequency of words in a document\n",
    "            document_length-- integer, length of input document \n",
    "    :rtype: dict\n",
    "    \"\"\"\n",
    "    tfidf_dict = {}\n",
    "\n",
    "    for (sentence1, f_dict1), (sentence2, f_dict2) in zip(tf_dict.items(), idf_dict.items()):\n",
    "        value_dict = {}\n",
    "\n",
    "        for (word1, value1), (word2, value2) in zip(f_dict1.items(), f_dict2.items()):  \n",
    "            value_dict[word1] = float(value1 * value2) # tfidf function\n",
    "\n",
    "        tfidf_dict[sentence1] = value_dict\n",
    "\n",
    "    return tfidf_dict"
   ]
  },
  {
   "cell_type": "code",
   "execution_count": 8,
   "id": "9ae03b5f-67b6-43ce-9f73-4ba6ab6a4e7f",
   "metadata": {},
   "outputs": [],
   "source": [
    "def calc_sentence_score(tfidf_dict):\n",
    "    \"\"\"\n",
    "    Create a dictionary contains the sentence score value\n",
    "\n",
    "    :param: tfidf_dict-- dict, dictionary of TFIDF score value\n",
    "    :rtype: dict\n",
    "    \"\"\"\n",
    "    sentence_score_dict = {}\n",
    "\n",
    "    for sentence, f_dict in tfidf_dict.items():\n",
    "        sentence_score = 0\n",
    "\n",
    "        count_words_in_sentence = len(f_dict)\n",
    "        for word, score in f_dict.items():\n",
    "            sentence_score += score\n",
    "\n",
    "        sentence_score_dict[sentence] = sentence_score / count_words_in_sentence\n",
    "        # adding the TF score of words in a sentence \n",
    "        # and divided by total words in a sentence.\n",
    "\n",
    "    return sentence_score_dict"
   ]
  },
  {
   "cell_type": "code",
   "execution_count": 9,
   "id": "36ebc8a8-2974-463d-876e-1699b9fe1ba0",
   "metadata": {},
   "outputs": [],
   "source": [
    "def calc_average_score(sentence_score_dict):\n",
    "    \"\"\"\n",
    "    Calculate the average sentence score from the sentence score value dictionary\n",
    "    \n",
    "    :param: tfidf_dict-- dict, dictionary of sentence score value\n",
    "    :rtype: int\n",
    "    \"\"\"\n",
    "    total = 0\n",
    "    for entry in sentence_score_dict:\n",
    "        total += sentence_score_dict[entry]\n",
    "\n",
    "    # average score of a sentence in document\n",
    "    average = (total / len(sentence_score_dict))\n",
    "\n",
    "    return average"
   ]
  },
  {
   "cell_type": "code",
   "execution_count": 10,
   "id": "cf722f16-b697-49fb-b8c8-58a4b409e76b",
   "metadata": {},
   "outputs": [],
   "source": [
    "def generate_summary(sentences, sentence_score_dict, threshold):\n",
    "    \"\"\"\n",
    "    Generate final result, summary from source document, based on sentence score and thresold\n",
    "    \n",
    "    :param: sentences-- string, input document (lines of text)\n",
    "            sentence_score_dict-- dict, dictionary of sentence score\n",
    "    :rtype: string\n",
    "    \"\"\"\n",
    "    sentence_count = 0\n",
    "    summary = \"\"\n",
    "\n",
    "    for sentence in sentences:\n",
    "        if sentence[:15] in sentence_score_dict and sentence_score_dict[sentence[:15]] >= (threshold):\n",
    "            summary += sentence + \" \"\n",
    "            sentence_count += 1\n",
    "\n",
    "    return summary\n"
   ]
  },
  {
   "cell_type": "markdown",
   "id": "49bb9608-52e0-4a04-8295-1d3246a09ce0",
   "metadata": {},
   "source": [
    "# Main process"
   ]
  },
  {
   "cell_type": "code",
   "execution_count": 11,
   "id": "150f32fe-077e-4878-86e2-fabe25907aa8",
   "metadata": {},
   "outputs": [
    {
     "name": "stdout",
     "output_type": "stream",
     "text": [
      "Result: \n",
      "Bạn đã từng trải qua điều này chưa? Thành thật mà nói, tôi không có câu trả lời. Tôi không thể cho bạn biết cách hành động đúng đắn là gì; chỉ bạn mới biết. Cùng một thất bại, nhưng phản ứng khác nhau. ai đúng và ai sai? Mỗi người có một suy nghĩ khác nhau quyết định kết quả của họ. Đó là thời điểm đột phá lớn nhất của họ đã đến. Có lẽ tất cả những năm tháng kiên trì cuối cùng cũng được đền đáp. Ngẫm ra những vấn đề của bạn cho đến khi bạn giải quyết được chúng hoặc tìm ra giải pháp. Bạn đang định cư ở đâu trong cuộc sống của mình ngay bây giờ? Bạn có thể chơi vì số tiền cược lớn hơn bạn không? Và điều đó cũng tốt nếu bạn bằng lòng nhận ít hơn, miễn là sau này bạn không phải hối hận. Hãy nuôi dưỡng nó hàng ngày và cho nó sự sống bằng cách thực hiện những hành động có mục đích đối với nó. Thành công là một trò chơi hay thay đổi và lâu dài với những thăng trầm. Vì vậy, hãy có chủ đích về những gì bạn muốn trong cuộc sống. Cam kết với nó. Hãy nuôi dưỡng ước mơ của bạn. Đừng để ước mơ của bạn thành sự may rủi. \n"
     ]
    }
   ],
   "source": [
    "# Step 1: Sentence Tokenize\n",
    "sentences = sent_tokenize(text)\n",
    "document_length = len(sentences)\n",
    "\n",
    "# Step 2: Create the frequency dictionary of the words in each sentence.\n",
    "freq_dict = create_frequency_dict(sentences)\n",
    "\n",
    "# Step 3: Create dictionary of the frequency of words in a document\n",
    "words_per_doc = count_words_per_doc(freq_dict)\n",
    "\n",
    "# Step 4: Create the TF score dictionary\n",
    "tf_dict = create_tf_dict(freq_dict)\n",
    "\n",
    "# Step 5: Create the IDF score dictionary\n",
    "idf_dict = create_idf_dict(freq_dict, words_per_doc, document_length)\n",
    "\n",
    "# Step 6: Create the TF-IDF score dictionary\n",
    "tfidf_dict = create_tfidf_dict(tf_dict, idf_dict)\n",
    "\n",
    "# Step 7: Calculate the score of the sentences\n",
    "sentence_scores = calc_sentence_score(tfidf_dict)\n",
    "\n",
    "# Step 8: Calculate the threshold\n",
    "threshold = calc_average_score(sentence_scores)\n",
    "\n",
    "# Step 9: Generate the summary\n",
    "summary = generate_summary(sentences, sentence_scores, 1.0 * threshold) # Can change 1.3 -> 1.5/1.8\n",
    "print('Result: \\n' + summary)"
   ]
  }
 ],
 "metadata": {
  "kernelspec": {
   "display_name": "Python 3",
   "language": "python",
   "name": "python3"
  },
  "language_info": {
   "codemirror_mode": {
    "name": "ipython",
    "version": 3
   },
   "file_extension": ".py",
   "mimetype": "text/x-python",
   "name": "python",
   "nbconvert_exporter": "python",
   "pygments_lexer": "ipython3",
   "version": "3.8.8"
  }
 },
 "nbformat": 4,
 "nbformat_minor": 5
}
