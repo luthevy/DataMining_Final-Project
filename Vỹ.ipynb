{
 "cells": [
  {
   "cell_type": "code",
   "execution_count": 1,
   "id": "cc225f62-06c9-4585-8587-eb7e8a319f7d",
   "metadata": {},
   "outputs": [],
   "source": [
    "import nltk\n",
    "from nltk.corpus import stopwords\n",
    "from nltk.tokenize import word_tokenize, sent_tokenize"
   ]
  },
  {
   "cell_type": "code",
   "execution_count": null,
   "id": "a1c944ed-37e2-425a-91d6-a83093862a9b",
   "metadata": {},
   "outputs": [],
   "source": [
    "stopwords = set(stopwords.words(\"\"))\n",
    "words = word_tokenize(text)\n",
    "freqTable = dict()"
   ]
  },
  {
   "cell_type": "code",
   "execution_count": null,
   "id": "2363366d-f6b3-4b55-8540-a4c4ab2ddd81",
   "metadata": {},
   "outputs": [],
   "source": []
  }
 ],
 "metadata": {
  "kernelspec": {
   "display_name": "Python 3",
   "language": "python",
   "name": "python3"
  },
  "language_info": {
   "codemirror_mode": {
    "name": "ipython",
    "version": 3
   },
   "file_extension": ".py",
   "mimetype": "text/x-python",
   "name": "python",
   "nbconvert_exporter": "python",
   "pygments_lexer": "ipython3",
   "version": "3.8.8"
  }
 },
 "nbformat": 4,
 "nbformat_minor": 5
}
